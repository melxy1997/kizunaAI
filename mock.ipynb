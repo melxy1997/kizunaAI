{
 "metadata": {
  "language_info": {
   "codemirror_mode": {
    "name": "ipython",
    "version": 3
   },
   "file_extension": ".py",
   "mimetype": "text/x-python",
   "name": "python",
   "nbconvert_exporter": "python",
   "pygments_lexer": "ipython3",
   "version": "3.8.3-final"
  },
  "orig_nbformat": 2,
  "kernelspec": {
   "name": "python3",
   "display_name": "Python 3",
   "language": "python"
  }
 },
 "nbformat": 4,
 "nbformat_minor": 2,
 "cells": [
  {
   "cell_type": "code",
   "execution_count": 1,
   "metadata": {},
   "outputs": [],
   "source": [
    "import sys\n",
    "import time\n",
    "import socketio\n",
    "sio = socketio.Client()\n",
    "sio.connect(\"http://127.0.0.1:6789\", namespaces='/kizuna')\n"
   ]
  },
  {
   "cell_type": "code",
   "execution_count": 2,
   "metadata": {},
   "outputs": [
    {
     "output_type": "stream",
     "name": "stdout",
     "text": [
      "WARNING:tensorflow:From <ipython-input-2-4a3f57d5652e>:2: is_gpu_available (from tensorflow.python.framework.test_util) is deprecated and will be removed in a future version.\nInstructions for updating:\nUse `tf.config.list_physical_devices('GPU')` instead.\n"
     ]
    },
    {
     "output_type": "execute_result",
     "data": {
      "text/plain": [
       "True"
      ]
     },
     "metadata": {},
     "execution_count": 2
    }
   ],
   "source": [
    "import tensorflow as tf\n",
    "tf.test.is_gpu_available()"
   ]
  },
  {
   "cell_type": "code",
   "execution_count": 3,
   "metadata": {},
   "outputs": [],
   "source": [
    "def emit(params):\n",
    "    pitch,yaw,roll,theta,pha,mouth_open_percent,left_eye_status,right_eye_status = params\n",
    "    is_last = 0\n",
    "    result_string = {'euler': (pitch, -yaw, -roll),# 上下 左右 歪头\n",
    "                    'eye': (theta, pha),# 左右 上下\n",
    "                    'mouth': mouth_open_percent,# 开合程度\n",
    "                    'blink': (left_eye_status, right_eye_status),\n",
    "                    'is_last': is_last\n",
    "                    }#睁眼程度\n",
    "\n",
    "    sio.emit('result_data', result_string, namespace='/kizuna')"
   ]
  },
  {
   "cell_type": "code",
   "execution_count": 21,
   "metadata": {},
   "outputs": [],
   "source": [
    "params_list = [\n",
    "    [0.1, 0.1, 0.3, 0.0, -0.1, 0.1, 0.9, 0.5 ],\n",
    "    [0.1, 0.1, 0.4, 0.0, -0.0, 0.2, 0.9, 0.6 ],\n",
    "    [0.1, 0.1, 0.5, 0.0, 0.1, 0.3, 0.9, 0.7 ],\n",
    "    [0.1, 0.0, 0.6, 0.0, 0, 0.4, 0.9, 0.9 ],\n",
    "    [0.1, 0.0, 0.6, 0.0, 0, 0.0, 0.9, 0 ],\n",
    "]\n",
    "for p in params_list:\n",
    "    time.sleep(0.1)\n",
    "    emit(p)\n"
   ]
  },
  {
   "cell_type": "code",
   "execution_count": null,
   "metadata": {},
   "outputs": [],
   "source": []
  },
  {
   "cell_type": "code",
   "execution_count": null,
   "metadata": {},
   "outputs": [],
   "source": []
  }
 ]
}